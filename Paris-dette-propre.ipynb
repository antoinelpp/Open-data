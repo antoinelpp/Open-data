{
 "cells": [
  {
   "cell_type": "markdown",
   "metadata": {},
   "source": [
    "# Analizing Paris debts"
   ]
  },
  {
   "cell_type": "markdown",
   "metadata": {},
   "source": [
    "We know that Paris, as most of the cities, own debts. Thoses depts can me accessed via the opendata.paris.fr website\n",
    "\n",
    "we propose here to read those data, and see what we can lean from it"
   ]
  },
  {
   "cell_type": "code",
   "execution_count": 142,
   "metadata": {
    "code_folding": [
     0
    ]
   },
   "outputs": [],
   "source": [
    "#import all of the useful libs\n",
    "import requests\n",
    "import json\n",
    "import pandas as pd\n",
    "import numpy as np\n",
    "\n",
    "import matplotlib.pyplot as plt\n",
    "import seaborn as sns\n",
    "sns.set()\n",
    "%matplotlib inline"
   ]
  },
  {
   "cell_type": "code",
   "execution_count": 143,
   "metadata": {
    "code_folding": [
     0
    ]
   },
   "outputs": [],
   "source": [
    "url=\"\".join([\"https://opendata.paris.fr/api/records/1.0/download/?\",\n",
    "            \"dataset=dette-propre&lang=fr\",\n",
    "            \"&format=json\",\n",
    "            #\"&rows=0\",\n",
    "            \"&facet=annee_de_publication\",\n",
    "            \"&facet=nature\",\n",
    "            \"&facet=organisme_preteur_ou_chef_de_file\",\n",
    "            \"&facet=type_de_taux_d_interet\",\n",
    "            \"&facet=profil_d_amortissement\",\n",
    "            \"&facet=possibilite_de_remboursement\",\n",
    "            \"&facet=categorie_d_emprunt\"])\n",
    "req = requests.get(url).json()"
   ]
  },
  {
   "cell_type": "markdown",
   "metadata": {},
   "source": [
    "### The type of data :\n",
    "\n",
    "* req is a list of json objects. Each item being a data point. we have 524 items\n",
    "* req[i] has 4 keys : 'datasetid','fields','record_timestamp','recordid'. only 'fields' is the useful data\n",
    "* req[i][\"fields\"] has 14 keys :\n",
    "  * 'date_de_derniere_echeance',\n",
    "  * 'capital_restant_du_au_31_12_2016',\n",
    "  * 'organisme_preteur_ou_chef_de_file',\n",
    "  * 'nature',\n",
    "  * 'capital_initial',\n",
    "  * 'date_d_emission_ou_date_de_mobilisation',\n",
    "  * 'profil_d_amortissement',\n",
    "  * 'taux_initial_taux_actuariel',\n",
    "  * 'taux_initial_niveau_de_taux',\n",
    "  * 'possibilite_de_remboursement',\n",
    "  * 'type_de_taux_d_interet',\n",
    "  * 'annee_de_publication',\n",
    "  * 'categorie_d_emprunt',\n",
    "  * 'index'\n",
    "\n"
   ]
  },
  {
   "cell_type": "code",
   "execution_count": 144,
   "metadata": {
    "code_folding": [
     0
    ]
   },
   "outputs": [
    {
     "name": "stdout",
     "output_type": "stream",
     "text": [
      "date_de_derniere_echeance                :  2008-12-01\n",
      "capital_restant_du_au_31_12_2016         :  38112254.31\n",
      "organisme_preteur_ou_chef_de_file        :  CREDIT FONCIER\n",
      "nature                                   :  16441 - Emprunts option tirage tréso\n",
      "capital_initial                          :  55643891.29\n",
      "date_d_emission_ou_date_de_mobilisation  :  2001-12-21\n",
      "profil_d_amortissement                   :  Emprunt in fine\n",
      "taux_initial_taux_actuariel              :  0.0\n",
      "taux_initial_niveau_de_taux              :  0.0\n",
      "possibilite_de_remboursement             :  oui\n",
      "type_de_taux_d_interet                   :  Fixe\n",
      "annee_de_publication                     :  2007\n",
      "categorie_d_emprunt                      :  A-1\n",
      "index                                    :  TAUX FIXE\n"
     ]
    }
   ],
   "source": [
    "#exemple of one item :\n",
    "for k in req[1]['fields'].keys():\n",
    "    print('{:40} :  {}'.format(k,req[1]['fields'][k]))"
   ]
  },
  {
   "cell_type": "code",
   "execution_count": 145,
   "metadata": {
    "code_folding": []
   },
   "outputs": [
    {
     "name": "stdout",
     "output_type": "stream",
     "text": [
      " \n",
      " \n",
      " capital total restant le 31_12_2016 : 32.52 milliard d'€ !! \n",
      "\n"
     ]
    }
   ],
   "source": [
    "#What is to total depts ?\n",
    "for i,r in enumerate(req):\n",
    "    #print(r['fields']['capital_restant_du_au_31_12_2016'])\n",
    "    pass\n",
    "\n",
    "cap_rest = [r['fields']['capital_restant_du_au_31_12_2016'] for r in req]\n",
    "\n",
    "print(\" \\n \\n capital total restant le 31_12_2016 : {:4.2f} milliard d'€ !! \\n\".format(sum(cap_rest)/1e9))"
   ]
  },
  {
   "cell_type": "code",
   "execution_count": 156,
   "metadata": {
    "code_folding": []
   },
   "outputs": [
    {
     "data": {
      "text/plain": [
       "<matplotlib.axes._subplots.AxesSubplot at 0x7fef74cfe940>"
      ]
     },
     "execution_count": 156,
     "metadata": {},
     "output_type": "execute_result"
    },
    {
     "data": {
      "image/png": "[encoded data removed]",
      "text/plain": [
       "<matplotlib.figure.Figure at 0x7fef74c33160>"
      ]
     },
     "metadata": {},
     "output_type": "display_data"
    }
   ],
   "source": [
    "#who are the bigests lowner ? In numbers of loans\n",
    "df = pd.DataFrame([r['fields'] for r in req])\n",
    "df['organisme_preteur_ou_chef_de_file'].value_counts(ascending=True)[-10:].plot.barh()"
   ]
  },
  {
   "cell_type": "code",
   "execution_count": 155,
   "metadata": {
    "code_folding": []
   },
   "outputs": [
    {
     "data": {
      "image/png": "[encoded data removed]",
      "text/plain": [
       "<matplotlib.figure.Figure at 0x7fef74cc4208>"
      ]
     },
     "metadata": {},
     "output_type": "display_data"
    }
   ],
   "source": [
    "#who are the bigests lowner ? In totla inital capital\n",
    "key='capital_initial'\n",
    "gbdf = df.groupby(['organisme_preteur_ou_chef_de_file'])[key].sum().sort_values()[-10:].plot.barh()"
   ]
  },
  {
   "cell_type": "code",
   "execution_count": null,
   "metadata": {},
   "outputs": [],
   "source": []
  }
 ],
 "metadata": {
  "kernelspec": {
   "display_name": "Python 3",
   "language": "python",
   "name": "python3"
  },
  "language_info": {
   "codemirror_mode": {
    "name": "ipython",
    "version": 3
   },
   "file_extension": ".py",
   "mimetype": "text/x-python",
   "name": "python",
   "nbconvert_exporter": "python",
   "pygments_lexer": "ipython3",
   "version": "3.5.2"
  },
  "toc": {
   "colors": {
    "hover_highlight": "#DAA520",
    "navigate_num": "#000000",
    "navigate_text": "#333333",
    "running_highlight": "#FF0000",
    "selected_highlight": "#FFD700",
    "sidebar_border": "#EEEEEE",
    "wrapper_background": "#FFFFFF"
   },
   "moveMenuLeft": true,
   "nav_menu": {
    "height": "49px",
    "width": "252px"
   },
   "navigate_menu": true,
   "number_sections": true,
   "sideBar": true,
   "skip_h1_title": false,
   "threshold": 4,
   "toc_cell": false,
   "toc_section_display": "block",
   "toc_window_display": false,
   "widenNotebook": false
  },
  "varInspector": {
   "cols": {
    "lenName": 16,
    "lenType": 16,
    "lenVar": 40
   },
   "kernels_config": {
    "python": {
     "delete_cmd_postfix": "",
     "delete_cmd_prefix": "del ",
     "library": "var_list.py",
     "varRefreshCmd": "print(var_dic_list())"
    },
    "r": {
     "delete_cmd_postfix": ") ",
     "delete_cmd_prefix": "rm(",
     "library": "var_list.r",
     "varRefreshCmd": "cat(var_dic_list()) "
    }
   },
   "types_to_exclude": [
    "module",
    "function",
    "builtin_function_or_method",
    "instance",
    "_Feature"
   ],
   "window_display": false
  }
 },
 "nbformat": 4,
 "nbformat_minor": 2
}
